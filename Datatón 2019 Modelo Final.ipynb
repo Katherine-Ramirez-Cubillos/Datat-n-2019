{
 "cells": [
  {
   "cell_type": "markdown",
   "metadata": {},
   "source": [
    "# DADATON 2019\n",
    "\n",
    "Integrantes:\n",
    "* Katherine Ramírez Cubillos\n",
    "* Francisco Perea De Zubiría\n",
    "* Jose Sebastian Estepa"
   ]
  },
  {
   "cell_type": "code",
   "execution_count": 318,
   "metadata": {},
   "outputs": [],
   "source": [
    "# Data \n",
    "import pandas as pd\n",
    "import numpy as np\n",
    "import seaborn as sns\n",
    "import matplotlib.pyplot as plt\n",
    "plt.style.use('seaborn-whitegrid')\n",
    "from warnings import simplefilter\n",
    "simplefilter(action='ignore', category=FutureWarning)\n",
    "\n",
    "\n",
    "#Visualitation\n",
    "import seaborn as sns\n",
    "import matplotlib.pyplot as plt\n",
    "sns.set_style('darkgrid')\n",
    "plt.style.use('seaborn-poster')\n",
    "\n",
    "#Warnings\n",
    "from warnings import simplefilter\n",
    "simplefilter(action='ignore', category=FutureWarning)\n",
    "\n",
    "# Data manipulation with scikit learning\n",
    "from sklearn.utils import resample\n",
    "from sklearn.model_selection import train_test_split\n",
    "from sklearn.model_selection import cross_val_score\n",
    "from sklearn.preprocessing import StandardScaler, RobustScaler\n",
    "from sklearn.naive_bayes import GaussianNB\n",
    "from sklearn import svm\n",
    "\n",
    "# Models\n",
    "import statsmodels.api as sm2\n",
    "from sklearn.linear_model import LogisticRegression\n",
    "from sklearn.naive_bayes import BernoulliNB\n",
    "from sklearn.neighbors import KNeighborsClassifier\n",
    "from sklearn.tree import DecisionTreeClassifier\n",
    "from sklearn.ensemble import RandomForestClassifier\n",
    "from sklearn.ensemble import GradientBoostingClassifier\n",
    "\n",
    "# Metrics and hyperparameters\n",
    "from sklearn.metrics import confusion_matrix, precision_score, accuracy_score, classification_report\n",
    "from sklearn.metrics import recall_score, f1_score, roc_auc_score, roc_curve \n"
   ]
  },
  {
   "cell_type": "markdown",
   "metadata": {},
   "source": [
    "### Base Training"
   ]
  },
  {
   "cell_type": "code",
   "execution_count": 289,
   "metadata": {},
   "outputs": [
    {
     "data": {
      "text/html": [
       "<div>\n",
       "<style scoped>\n",
       "    .dataframe tbody tr th:only-of-type {\n",
       "        vertical-align: middle;\n",
       "    }\n",
       "\n",
       "    .dataframe tbody tr th {\n",
       "        vertical-align: top;\n",
       "    }\n",
       "\n",
       "    .dataframe thead th {\n",
       "        text-align: right;\n",
       "    }\n",
       "</style>\n",
       "<table border=\"1\" class=\"dataframe\">\n",
       "  <thead>\n",
       "    <tr style=\"text-align: right;\">\n",
       "      <th></th>\n",
       "      <th>id</th>\n",
       "      <th>f_analisis</th>\n",
       "      <th>var_rpta</th>\n",
       "      <th>segmento</th>\n",
       "      <th>valor_total_transferido</th>\n",
       "      <th>n_transacciones_exitosas</th>\n",
       "      <th>val_por_transaccion</th>\n",
       "    </tr>\n",
       "  </thead>\n",
       "  <tbody>\n",
       "    <tr>\n",
       "      <th>0</th>\n",
       "      <td>1</td>\n",
       "      <td>201803.0</td>\n",
       "      <td>0.0</td>\n",
       "      <td>4.0</td>\n",
       "      <td>0.0</td>\n",
       "      <td>0</td>\n",
       "      <td>0.000000</td>\n",
       "    </tr>\n",
       "    <tr>\n",
       "      <th>1</th>\n",
       "      <td>2</td>\n",
       "      <td>201604.0</td>\n",
       "      <td>0.0</td>\n",
       "      <td>0.0</td>\n",
       "      <td>0.0</td>\n",
       "      <td>233</td>\n",
       "      <td>0.000000</td>\n",
       "    </tr>\n",
       "    <tr>\n",
       "      <th>2</th>\n",
       "      <td>3</td>\n",
       "      <td>201608.0</td>\n",
       "      <td>0.0</td>\n",
       "      <td>5.0</td>\n",
       "      <td>123954.1</td>\n",
       "      <td>0</td>\n",
       "      <td>0.000000</td>\n",
       "    </tr>\n",
       "    <tr>\n",
       "      <th>3</th>\n",
       "      <td>4</td>\n",
       "      <td>201706.0</td>\n",
       "      <td>0.0</td>\n",
       "      <td>4.0</td>\n",
       "      <td>0.0</td>\n",
       "      <td>6</td>\n",
       "      <td>0.000000</td>\n",
       "    </tr>\n",
       "    <tr>\n",
       "      <th>4</th>\n",
       "      <td>5</td>\n",
       "      <td>201703.0</td>\n",
       "      <td>0.0</td>\n",
       "      <td>4.0</td>\n",
       "      <td>5547550.0</td>\n",
       "      <td>1671</td>\n",
       "      <td>3319.898265</td>\n",
       "    </tr>\n",
       "  </tbody>\n",
       "</table>\n",
       "</div>"
      ],
      "text/plain": [
       "   id  f_analisis  var_rpta  segmento  valor_total_transferido  \\\n",
       "0   1    201803.0       0.0       4.0                      0.0   \n",
       "1   2    201604.0       0.0       0.0                      0.0   \n",
       "2   3    201608.0       0.0       5.0                 123954.1   \n",
       "3   4    201706.0       0.0       4.0                      0.0   \n",
       "4   5    201703.0       0.0       4.0                5547550.0   \n",
       "\n",
       "   n_transacciones_exitosas  val_por_transaccion  \n",
       "0                         0             0.000000  \n",
       "1                       233             0.000000  \n",
       "2                         0             0.000000  \n",
       "3                         6             0.000000  \n",
       "4                      1671          3319.898265  "
      ]
     },
     "execution_count": 289,
     "metadata": {},
     "output_type": "execute_result"
    }
   ],
   "source": [
    "Riesgo= pd.read_csv('Datos_modelo_train_2.csv')\n",
    "Riesgo.rename({\"Unnamed: 0\":\"a\"}, axis=\"columns\", inplace=True)\n",
    "Riesgo.drop([\"a\"], axis=1, inplace=True)\n",
    "Riesgo.head()\n"
   ]
  },
  {
   "cell_type": "code",
   "execution_count": 262,
   "metadata": {},
   "outputs": [
    {
     "data": {
      "text/plain": [
       "id                            int64\n",
       "f_analisis                  float64\n",
       "var_rpta                    float64\n",
       "segmento                    float64\n",
       "valor_total_transferido     float64\n",
       "n_transacciones_exitosas      int64\n",
       "val_por_transaccion         float64\n",
       "disposit                    float64\n",
       "dtype: object"
      ]
     },
     "execution_count": 262,
     "metadata": {},
     "output_type": "execute_result"
    }
   ],
   "source": [
    "Riesgo.dtypes"
   ]
  },
  {
   "cell_type": "code",
   "execution_count": 263,
   "metadata": {},
   "outputs": [
    {
     "data": {
      "text/plain": [
       "id                          0\n",
       "f_analisis                  1\n",
       "var_rpta                    1\n",
       "segmento                    1\n",
       "valor_total_transferido     1\n",
       "n_transacciones_exitosas    0\n",
       "val_por_transaccion         0\n",
       "disposit                    1\n",
       "dtype: int64"
      ]
     },
     "execution_count": 263,
     "metadata": {},
     "output_type": "execute_result"
    }
   ],
   "source": [
    "# Tratamiento de los NA\n",
    "Riesgo.isnull().sum()"
   ]
  },
  {
   "cell_type": "code",
   "execution_count": 267,
   "metadata": {},
   "outputs": [
    {
     "data": {
      "text/plain": [
       "id                          0\n",
       "var_rpta                    0\n",
       "valor_total_transferido     0\n",
       "n_transacciones_exitosas    0\n",
       "val_por_transaccion         0\n",
       "disposit                    0\n",
       "dtype: int64"
      ]
     },
     "execution_count": 267,
     "metadata": {},
     "output_type": "execute_result"
    }
   ],
   "source": [
    "#Si hay valores NA (aplicar esto)\n",
    "#Riesgo= Riesgo.drop(columns=\"nombrecolumna\") #si hay que eliminar una columna\n",
    "Riesgo= Riesgo.drop(columns='f_analisis')\n",
    "Riesgo= Riesgo.drop(columns='segmento')\n",
    "Riesgo =Riesgo.dropna()\n",
    "Riesgo.isnull().sum()"
   ]
  },
  {
   "cell_type": "markdown",
   "metadata": {},
   "source": [
    "#### Exploración de datos"
   ]
  },
  {
   "cell_type": "code",
   "execution_count": 268,
   "metadata": {},
   "outputs": [
    {
     "data": {
      "text/plain": [
       "0.0    35214\n",
       "1.0     2786\n",
       "Name: var_rpta, dtype: int64"
      ]
     },
     "execution_count": 268,
     "metadata": {},
     "output_type": "execute_result"
    }
   ],
   "source": [
    "Riesgo.var_rpta.value_counts() #Mira si esta balancada"
   ]
  },
  {
   "cell_type": "code",
   "execution_count": 269,
   "metadata": {},
   "outputs": [
    {
     "data": {
      "image/png": "[encoded data removed]",
      "text/plain": [
       "<Figure size 921.6x633.6 with 1 Axes>"
      ]
     },
     "metadata": {},
     "output_type": "display_data"
    }
   ],
   "source": [
    "#Histograma para comprobar balanceo\n",
    "Riesgo['var_rpta'].hist(bins=3);\n",
    "plt.xticks([0,1]);\n",
    "plt.title(\"Riesgo Distribution\",fontweight=\"bold\" )\n",
    "plt.xlabel(\"Frequency\");"
   ]
  },
  {
   "cell_type": "markdown",
   "metadata": {},
   "source": [
    "#### Estandarización de la información"
   ]
  },
  {
   "cell_type": "code",
   "execution_count": 271,
   "metadata": {},
   "outputs": [],
   "source": [
    "std_scaler = StandardScaler()\n",
    "\n",
    "#cambiar nombre de las variables\n",
    "# 'id', 'segmento',\"valor_total_transferido\",\"n_transacciones_exitosas\", \"val_por_transaccion\"\n",
    "\n",
    "Riesgo['id'] = std_scaler.fit_transform(Riesgo['id'].values.reshape(-1,1))\n",
    "Riesgo['valor_total_transferido'] = std_scaler.fit_transform(Riesgo['valor_total_transferido'].values.reshape(-1,1))\n",
    "Riesgo['n_transacciones_exitosas'] = std_scaler.fit_transform(Riesgo['n_transacciones_exitosas'].values.reshape(-1,1))\n",
    "Riesgo['val_por_transaccion'] = std_scaler.fit_transform(Riesgo['val_por_transaccion'].values.reshape(-1,1))\n",
    "Riesgo['disposit'] = std_scaler.fit_transform(Riesgo['disposit'].values.reshape(-1,1))"
   ]
  },
  {
   "cell_type": "code",
   "execution_count": 272,
   "metadata": {},
   "outputs": [
    {
     "data": {
      "text/html": [
       "<div>\n",
       "<style scoped>\n",
       "    .dataframe tbody tr th:only-of-type {\n",
       "        vertical-align: middle;\n",
       "    }\n",
       "\n",
       "    .dataframe tbody tr th {\n",
       "        vertical-align: top;\n",
       "    }\n",
       "\n",
       "    .dataframe thead th {\n",
       "        text-align: right;\n",
       "    }\n",
       "</style>\n",
       "<table border=\"1\" class=\"dataframe\">\n",
       "  <thead>\n",
       "    <tr style=\"text-align: right;\">\n",
       "      <th></th>\n",
       "      <th>id</th>\n",
       "      <th>var_rpta</th>\n",
       "      <th>valor_total_transferido</th>\n",
       "      <th>n_transacciones_exitosas</th>\n",
       "      <th>val_por_transaccion</th>\n",
       "      <th>disposit</th>\n",
       "    </tr>\n",
       "  </thead>\n",
       "  <tbody>\n",
       "    <tr>\n",
       "      <th>0</th>\n",
       "      <td>-1.732005</td>\n",
       "      <td>0.0</td>\n",
       "      <td>-0.060311</td>\n",
       "      <td>-0.603192</td>\n",
       "      <td>-0.012250</td>\n",
       "      <td>-1.332588</td>\n",
       "    </tr>\n",
       "    <tr>\n",
       "      <th>1</th>\n",
       "      <td>-1.731914</td>\n",
       "      <td>0.0</td>\n",
       "      <td>-0.060311</td>\n",
       "      <td>-0.328203</td>\n",
       "      <td>-0.012250</td>\n",
       "      <td>-1.332588</td>\n",
       "    </tr>\n",
       "    <tr>\n",
       "      <th>2</th>\n",
       "      <td>-1.731823</td>\n",
       "      <td>0.0</td>\n",
       "      <td>-0.060136</td>\n",
       "      <td>-0.603192</td>\n",
       "      <td>-0.012250</td>\n",
       "      <td>0.287355</td>\n",
       "    </tr>\n",
       "    <tr>\n",
       "      <th>3</th>\n",
       "      <td>-1.731732</td>\n",
       "      <td>0.0</td>\n",
       "      <td>-0.060311</td>\n",
       "      <td>-0.596110</td>\n",
       "      <td>-0.012250</td>\n",
       "      <td>-1.332588</td>\n",
       "    </tr>\n",
       "    <tr>\n",
       "      <th>4</th>\n",
       "      <td>-1.731641</td>\n",
       "      <td>0.0</td>\n",
       "      <td>-0.052481</td>\n",
       "      <td>1.368934</td>\n",
       "      <td>-0.012242</td>\n",
       "      <td>0.287355</td>\n",
       "    </tr>\n",
       "  </tbody>\n",
       "</table>\n",
       "</div>"
      ],
      "text/plain": [
       "         id  var_rpta  valor_total_transferido  n_transacciones_exitosas  \\\n",
       "0 -1.732005       0.0                -0.060311                 -0.603192   \n",
       "1 -1.731914       0.0                -0.060311                 -0.328203   \n",
       "2 -1.731823       0.0                -0.060136                 -0.603192   \n",
       "3 -1.731732       0.0                -0.060311                 -0.596110   \n",
       "4 -1.731641       0.0                -0.052481                  1.368934   \n",
       "\n",
       "   val_por_transaccion  disposit  \n",
       "0            -0.012250 -1.332588  \n",
       "1            -0.012250 -1.332588  \n",
       "2            -0.012250  0.287355  \n",
       "3            -0.012250 -1.332588  \n",
       "4            -0.012242  0.287355  "
      ]
     },
     "execution_count": 272,
     "metadata": {},
     "output_type": "execute_result"
    }
   ],
   "source": [
    "Riesgo.head()"
   ]
  },
  {
   "cell_type": "markdown",
   "metadata": {},
   "source": [
    "#### Balanceo base de datos"
   ]
  },
  {
   "cell_type": "code",
   "execution_count": 273,
   "metadata": {},
   "outputs": [
    {
     "data": {
      "text/plain": [
       "1.0    2786\n",
       "0.0    2786\n",
       "Name: var_rpta, dtype: int64"
      ]
     },
     "execution_count": 273,
     "metadata": {},
     "output_type": "execute_result"
    }
   ],
   "source": [
    "df = Riesgo.sample(frac=1)\n",
    "\n",
    "df_Riesgo = df.loc[df['var_rpta'] == 1]\n",
    "df_n_Riesgo = df.loc[df['var_rpta'] == 0][:2786] #Cambiar este número por el de nuestra base\n",
    "\n",
    "df_tamaño = pd.concat([df_Riesgo, df_n_Riesgo])\n",
    "df = df_tamaño.sample(frac=1, random_state=42)\n",
    "\n",
    "df.var_rpta.value_counts()"
   ]
  },
  {
   "cell_type": "code",
   "execution_count": 274,
   "metadata": {},
   "outputs": [
    {
     "data": {
      "image/png": "[encoded data removed]",
      "text/plain": [
       "<Figure size 921.6x633.6 with 1 Axes>"
      ]
     },
     "metadata": {},
     "output_type": "display_data"
    }
   ],
   "source": [
    "#Histograma para comprobar balanceo\n",
    "df['var_rpta'].hist(bins=3);\n",
    "plt.xticks([0,1]);\n",
    "plt.title(\"Riesgo Distribution\",fontweight=\"bold\" )\n",
    "plt.xlabel(\"Frequency\");"
   ]
  },
  {
   "cell_type": "markdown",
   "metadata": {},
   "source": [
    "#### Exportar base de datos"
   ]
  },
  {
   "cell_type": "code",
   "execution_count": null,
   "metadata": {},
   "outputs": [],
   "source": [
    "ruta1= \"C:/Users/Acer\" #ruta de tu computador\n",
    "df.to_csv(ruta1)"
   ]
  },
  {
   "cell_type": "markdown",
   "metadata": {},
   "source": [
    "### Base test"
   ]
  },
  {
   "cell_type": "code",
   "execution_count": 275,
   "metadata": {},
   "outputs": [
    {
     "data": {
      "text/html": [
       "<div>\n",
       "<style scoped>\n",
       "    .dataframe tbody tr th:only-of-type {\n",
       "        vertical-align: middle;\n",
       "    }\n",
       "\n",
       "    .dataframe tbody tr th {\n",
       "        vertical-align: top;\n",
       "    }\n",
       "\n",
       "    .dataframe thead th {\n",
       "        text-align: right;\n",
       "    }\n",
       "</style>\n",
       "<table border=\"1\" class=\"dataframe\">\n",
       "  <thead>\n",
       "    <tr style=\"text-align: right;\">\n",
       "      <th></th>\n",
       "      <th>id</th>\n",
       "      <th>valor_total_transferido</th>\n",
       "      <th>n_transacciones_exitosas</th>\n",
       "      <th>val_por_transaccion</th>\n",
       "      <th>disposit</th>\n",
       "    </tr>\n",
       "  </thead>\n",
       "  <tbody>\n",
       "    <tr>\n",
       "      <th>0</th>\n",
       "      <td>76537.0</td>\n",
       "      <td>0.000000e+00</td>\n",
       "      <td>0</td>\n",
       "      <td>0.000000e+00</td>\n",
       "      <td>1.0</td>\n",
       "    </tr>\n",
       "    <tr>\n",
       "      <th>1</th>\n",
       "      <td>76538.0</td>\n",
       "      <td>2.122750e+06</td>\n",
       "      <td>98</td>\n",
       "      <td>2.166071e+04</td>\n",
       "      <td>5.0</td>\n",
       "    </tr>\n",
       "    <tr>\n",
       "      <th>2</th>\n",
       "      <td>76539.0</td>\n",
       "      <td>5.419362e+07</td>\n",
       "      <td>907</td>\n",
       "      <td>5.975041e+04</td>\n",
       "      <td>3.0</td>\n",
       "    </tr>\n",
       "    <tr>\n",
       "      <th>3</th>\n",
       "      <td>76540.0</td>\n",
       "      <td>0.000000e+00</td>\n",
       "      <td>338</td>\n",
       "      <td>0.000000e+00</td>\n",
       "      <td>3.0</td>\n",
       "    </tr>\n",
       "    <tr>\n",
       "      <th>4</th>\n",
       "      <td>76541.0</td>\n",
       "      <td>2.863384e+07</td>\n",
       "      <td>8</td>\n",
       "      <td>3.579230e+06</td>\n",
       "      <td>3.0</td>\n",
       "    </tr>\n",
       "  </tbody>\n",
       "</table>\n",
       "</div>"
      ],
      "text/plain": [
       "        id  valor_total_transferido  n_transacciones_exitosas  \\\n",
       "0  76537.0             0.000000e+00                         0   \n",
       "1  76538.0             2.122750e+06                        98   \n",
       "2  76539.0             5.419362e+07                       907   \n",
       "3  76540.0             0.000000e+00                       338   \n",
       "4  76541.0             2.863384e+07                         8   \n",
       "\n",
       "   val_por_transaccion  disposit  \n",
       "0         0.000000e+00       1.0  \n",
       "1         2.166071e+04       5.0  \n",
       "2         5.975041e+04       3.0  \n",
       "3         0.000000e+00       3.0  \n",
       "4         3.579230e+06       3.0  "
      ]
     },
     "execution_count": 275,
     "metadata": {},
     "output_type": "execute_result"
    }
   ],
   "source": [
    "Riesgo_t= pd.read_csv('Datos_modelo_predict_3.csv')\n",
    "Riesgo_t.rename({\"Unnamed: 0\":\"a\"}, axis=\"columns\", inplace=True)\n",
    "Riesgo_t.drop([\"a\"], axis=1, inplace=True)\n",
    "Riesgo_t.head()\n"
   ]
  },
  {
   "cell_type": "code",
   "execution_count": 276,
   "metadata": {},
   "outputs": [
    {
     "data": {
      "text/plain": [
       "id                          float64\n",
       "valor_total_transferido     float64\n",
       "n_transacciones_exitosas      int64\n",
       "val_por_transaccion         float64\n",
       "disposit                    float64\n",
       "dtype: object"
      ]
     },
     "execution_count": 276,
     "metadata": {},
     "output_type": "execute_result"
    }
   ],
   "source": [
    "Riesgo_t.dtypes"
   ]
  },
  {
   "cell_type": "markdown",
   "metadata": {},
   "source": [
    "#### Procesamiento de datos"
   ]
  },
  {
   "cell_type": "code",
   "execution_count": 277,
   "metadata": {},
   "outputs": [
    {
     "data": {
      "text/plain": [
       "id                          0\n",
       "valor_total_transferido     1\n",
       "n_transacciones_exitosas    0\n",
       "val_por_transaccion         0\n",
       "disposit                    1\n",
       "dtype: int64"
      ]
     },
     "execution_count": 277,
     "metadata": {},
     "output_type": "execute_result"
    }
   ],
   "source": [
    "# Tratamiento de los NA\n",
    "Riesgo_t.isnull().sum()"
   ]
  },
  {
   "cell_type": "code",
   "execution_count": 278,
   "metadata": {},
   "outputs": [
    {
     "data": {
      "text/plain": [
       "id                          0\n",
       "var_rpta                    0\n",
       "valor_total_transferido     0\n",
       "n_transacciones_exitosas    0\n",
       "val_por_transaccion         0\n",
       "disposit                    0\n",
       "dtype: int64"
      ]
     },
     "execution_count": 278,
     "metadata": {},
     "output_type": "execute_result"
    }
   ],
   "source": [
    "#Si hay valores NA (aplicar esto)\n",
    "#Riesgo= Riesgo.drop(columns=\"nombrecolumna\") #si hay que eliminar una columna\n",
    "Riesgo_t =Riesgo.dropna()\n",
    "Riesgo_t.isnull().sum()"
   ]
  },
  {
   "cell_type": "markdown",
   "metadata": {},
   "source": [
    "#### Exportar de datos"
   ]
  },
  {
   "cell_type": "code",
   "execution_count": null,
   "metadata": {},
   "outputs": [],
   "source": [
    "ruta1= \"H:/\" #ruta de tu computador\n",
    "Riesgo_t.to_csv(ruta1)"
   ]
  },
  {
   "cell_type": "markdown",
   "metadata": {},
   "source": [
    "### Significancia de los betas"
   ]
  },
  {
   "cell_type": "code",
   "execution_count": 286,
   "metadata": {},
   "outputs": [
    {
     "data": {
      "text/plain": [
       "(5572, 4)"
      ]
     },
     "execution_count": 286,
     "metadata": {},
     "output_type": "execute_result"
    }
   ],
   "source": [
    "df2=df\n",
    "\n",
    "X=np.array(df2[[\"valor_total_transferido\",\"n_transacciones_exitosas\",\"val_por_transaccion\", \"disposit\"]])\n",
    "y=np.array(df2[\"var_rpta\"])\n",
    "X.shape"
   ]
  },
  {
   "cell_type": "code",
   "execution_count": 287,
   "metadata": {},
   "outputs": [
    {
     "name": "stdout",
     "output_type": "stream",
     "text": [
      "Optimization terminated successfully.\n",
      "         Current function value: 0.689562\n",
      "         Iterations: 27\n",
      "         Function evaluations: 29\n",
      "         Gradient evaluations: 29\n",
      "                           Logit Regression Results                           \n",
      "==============================================================================\n",
      "Dep. Variable:                      y   No. Observations:                 5572\n",
      "Model:                          Logit   Df Residuals:                     5568\n",
      "Method:                           MLE   Df Model:                            3\n",
      "Date:                Wed, 18 Dec 2019   Pseudo R-squ.:                0.005172\n",
      "Time:                        18:23:45   Log-Likelihood:                -3842.2\n",
      "converged:                       True   LL-Null:                       -3862.2\n",
      "Covariance Type:            nonrobust   LLR p-value:                 1.093e-08\n",
      "==============================================================================\n",
      "                 coef    std err          z      P>|z|      [0.025      0.975]\n",
      "------------------------------------------------------------------------------\n",
      "x1            -0.1016      0.133     -0.764      0.445      -0.362       0.159\n",
      "x2            -0.0034      0.027     -0.124      0.901      -0.057       0.050\n",
      "x3            -1.1847      0.944     -1.255      0.210      -3.035       0.666\n",
      "x4            -0.1560      0.027     -5.690      0.000      -0.210      -0.102\n",
      "==============================================================================\n"
     ]
    }
   ],
   "source": [
    "ll_model=sm.Logit(y,X)\n",
    "result=ll_model.fit(method='bfgs')\n",
    "print(result.summary())"
   ]
  },
  {
   "cell_type": "markdown",
   "metadata": {},
   "source": [
    "## Modelos "
   ]
  },
  {
   "cell_type": "code",
   "execution_count": 292,
   "metadata": {},
   "outputs": [
    {
     "name": "stdout",
     "output_type": "stream",
     "text": [
      "Train set: (5572, 4) (5572,)\n",
      "Test set: (38000, 4) (38000,)\n"
     ]
    }
   ],
   "source": [
    "# Definir conjunto de prueba y de testeto\n",
    "\n",
    "train= df\n",
    "test= Riesgo_t\n",
    "\n",
    "\n",
    "y_train = np.array(train[\"var_rpta\"])\n",
    "X_train = np.array(train[[\"valor_total_transferido\",\"n_transacciones_exitosas\",\"val_por_transaccion\", \"disposit\"]])\n",
    "\n",
    "y_test = np.array(test[\"var_rpta\"])\n",
    "X_test = np.array(test[[\"valor_total_transferido\",\"n_transacciones_exitosas\",\"val_por_transaccion\",\"disposit\"]])\n",
    "\n",
    "print ('Train set:', X_train.shape,  y_train.shape)\n",
    "print ('Test set:', X_test.shape,  y_test.shape)"
   ]
  },
  {
   "cell_type": "markdown",
   "metadata": {},
   "source": [
    "### Logistico"
   ]
  },
  {
   "cell_type": "code",
   "execution_count": 293,
   "metadata": {},
   "outputs": [
    {
     "data": {
      "text/plain": [
       "LogisticRegression(C=1.0, class_weight=None, dual=False, fit_intercept=True,\n",
       "                   intercept_scaling=1, l1_ratio=None, max_iter=100,\n",
       "                   multi_class='warn', n_jobs=None, penalty='l2',\n",
       "                   random_state=None, solver='warn', tol=0.0001, verbose=0,\n",
       "                   warm_start=False)"
      ]
     },
     "execution_count": 293,
     "metadata": {},
     "output_type": "execute_result"
    }
   ],
   "source": [
    "logit1 = LogisticRegression()\n",
    "logit_model1 = logit1.fit(X_train,y_train)\n",
    "logit_model1\n",
    "\n"
   ]
  },
  {
   "cell_type": "code",
   "execution_count": 294,
   "metadata": {},
   "outputs": [
    {
     "name": "stdout",
     "output_type": "stream",
     "text": [
      "Coefficients:  [[-0.13662886 -0.00277166 -0.76894518 -0.15783684]]\n"
     ]
    }
   ],
   "source": [
    "print ('Coefficients: ', logit_model1.coef_)"
   ]
  },
  {
   "cell_type": "code",
   "execution_count": 295,
   "metadata": {},
   "outputs": [
    {
     "data": {
      "text/plain": [
       "array([1., 1., 0., ..., 1., 1., 1.])"
      ]
     },
     "execution_count": 295,
     "metadata": {},
     "output_type": "execute_result"
    }
   ],
   "source": [
    "logit_pred1 = logit_model1.predict(X_test)\n",
    "logit_pred1"
   ]
  },
  {
   "cell_type": "code",
   "execution_count": 296,
   "metadata": {},
   "outputs": [
    {
     "data": {
      "text/plain": [
       "array([[0.26551396, 0.73448604],\n",
       "       [0.2792281 , 0.7207719 ],\n",
       "       [0.51334055, 0.48665945],\n",
       "       ...,\n",
       "       [0.26877051, 0.73122949],\n",
       "       [0.26603563, 0.73396437],\n",
       "       [0.42504552, 0.57495448]])"
      ]
     },
     "execution_count": 296,
     "metadata": {},
     "output_type": "execute_result"
    }
   ],
   "source": [
    "logit_prob = logit.predict_proba(X_test)\n",
    "logit_prob"
   ]
  },
  {
   "cell_type": "code",
   "execution_count": 297,
   "metadata": {},
   "outputs": [
    {
     "data": {
      "text/plain": [
       "0.537144276828813"
      ]
     },
     "execution_count": 297,
     "metadata": {},
     "output_type": "execute_result"
    }
   ],
   "source": [
    "logit_roc_auc = roc_auc_score(y_test, logit_pred1)\n",
    "logit_roc_auc"
   ]
  },
  {
   "cell_type": "code",
   "execution_count": 298,
   "metadata": {},
   "outputs": [
    {
     "name": "stdout",
     "output_type": "stream",
     "text": [
      "0.5008421052631579\n"
     ]
    }
   ],
   "source": [
    "e_l = accuracy_score(y_test,logit_pred1)\n",
    "print(e_l)"
   ]
  },
  {
   "cell_type": "code",
   "execution_count": 299,
   "metadata": {},
   "outputs": [
    {
     "name": "stdout",
     "output_type": "stream",
     "text": [
      "0.08319596126107562\n"
     ]
    }
   ],
   "source": [
    "p_l = precision_score(y_test,logit_pred1)\n",
    "print(p_l)"
   ]
  },
  {
   "cell_type": "code",
   "execution_count": 300,
   "metadata": {},
   "outputs": [
    {
     "name": "stdout",
     "output_type": "stream",
     "text": [
      "0.14550860437877286\n"
     ]
    }
   ],
   "source": [
    "F1_l= f1_score(y_test,logit_pred1)\n",
    "print(F1_l)"
   ]
  },
  {
   "cell_type": "code",
   "execution_count": 301,
   "metadata": {},
   "outputs": [
    {
     "name": "stdout",
     "output_type": "stream",
     "text": [
      "[[17417 17797]\n",
      " [ 1171  1615]]\n"
     ]
    }
   ],
   "source": [
    "m_l = confusion_matrix(y_test,logit_pred1)\n",
    "print(m_l)"
   ]
  },
  {
   "cell_type": "code",
   "execution_count": 319,
   "metadata": {},
   "outputs": [
    {
     "name": "stdout",
     "output_type": "stream",
     "text": [
      "              precision    recall  f1-score   support\n",
      "\n",
      "         0.0       0.94      0.49      0.65     35214\n",
      "         1.0       0.08      0.58      0.15      2786\n",
      "\n",
      "    accuracy                           0.50     38000\n",
      "   macro avg       0.51      0.54      0.40     38000\n",
      "weighted avg       0.87      0.50      0.61     38000\n",
      "\n"
     ]
    }
   ],
   "source": [
    "mr_l = classification_report(y_test,logit_pred1)\n",
    "print(mr_l)"
   ]
  },
  {
   "cell_type": "markdown",
   "metadata": {},
   "source": [
    "### Naïve Bayes"
   ]
  },
  {
   "cell_type": "code",
   "execution_count": 321,
   "metadata": {},
   "outputs": [
    {
     "data": {
      "text/plain": [
       "GaussianNB(priors=None, var_smoothing=1e-09)"
      ]
     },
     "execution_count": 321,
     "metadata": {},
     "output_type": "execute_result"
    }
   ],
   "source": [
    "from sklearn.naive_bayes import GaussianNB\n",
    "NaiveBayes = GaussianNB()\n",
    "NB_model = NaiveBayes.fit(X_train,y_train)\n",
    "NB_model\n"
   ]
  },
  {
   "cell_type": "code",
   "execution_count": 322,
   "metadata": {},
   "outputs": [
    {
     "data": {
      "text/plain": [
       "array([1., 1., 1., ..., 1., 1., 1.])"
      ]
     },
     "execution_count": 322,
     "metadata": {},
     "output_type": "execute_result"
    }
   ],
   "source": [
    "NB_pred = NB_model.predict(X_test)\n",
    "NB_pred"
   ]
  },
  {
   "cell_type": "code",
   "execution_count": 323,
   "metadata": {},
   "outputs": [
    {
     "data": {
      "text/plain": [
       "0.5068669051755381"
      ]
     },
     "execution_count": 323,
     "metadata": {},
     "output_type": "execute_result"
    }
   ],
   "source": [
    "NB_roc_auc = roc_auc_score(y_test, NB_pred)\n",
    "NB_roc_auc"
   ]
  },
  {
   "cell_type": "code",
   "execution_count": 324,
   "metadata": {},
   "outputs": [
    {
     "name": "stdout",
     "output_type": "stream",
     "text": [
      "0.10442105263157894\n"
     ]
    }
   ],
   "source": [
    "e_NB = accuracy_score(y_test,NB_pred)\n",
    "print(e_NB)"
   ]
  },
  {
   "cell_type": "code",
   "execution_count": 325,
   "metadata": {},
   "outputs": [
    {
     "name": "stdout",
     "output_type": "stream",
     "text": [
      "0.074281977219467\n"
     ]
    }
   ],
   "source": [
    "p_NB = precision_score(y_test,NB_pred)\n",
    "print(p_NB)"
   ]
  },
  {
   "cell_type": "code",
   "execution_count": 326,
   "metadata": {},
   "outputs": [
    {
     "name": "stdout",
     "output_type": "stream",
     "text": [
      "0.13808124810049638\n"
     ]
    }
   ],
   "source": [
    "F1_NB= f1_score(y_test,NB_pred)\n",
    "print(F1_NB)"
   ]
  },
  {
   "cell_type": "code",
   "execution_count": 327,
   "metadata": {},
   "outputs": [
    {
     "name": "stdout",
     "output_type": "stream",
     "text": [
      "[[ 1242 33972]\n",
      " [   60  2726]]\n"
     ]
    }
   ],
   "source": [
    "m_NB = confusion_matrix(y_test,NB_pred)\n",
    "print(m_NB)"
   ]
  },
  {
   "cell_type": "code",
   "execution_count": 320,
   "metadata": {},
   "outputs": [
    {
     "name": "stdout",
     "output_type": "stream",
     "text": [
      "              precision    recall  f1-score   support\n",
      "\n",
      "         0.0       0.95      0.04      0.07     35214\n",
      "         1.0       0.07      0.98      0.14      2786\n",
      "\n",
      "    accuracy                           0.10     38000\n",
      "   macro avg       0.51      0.51      0.10     38000\n",
      "weighted avg       0.89      0.10      0.07     38000\n",
      "\n"
     ]
    }
   ],
   "source": [
    "mr_NB = classification_report(y_test,NB_pred)\n",
    "print(mr_NB)"
   ]
  },
  {
   "cell_type": "markdown",
   "metadata": {},
   "source": [
    "### K Nearest Neighbor"
   ]
  },
  {
   "cell_type": "code",
   "execution_count": 328,
   "metadata": {},
   "outputs": [
    {
     "data": {
      "text/plain": [
       "KNeighborsClassifier(algorithm='auto', leaf_size=30, metric='minkowski',\n",
       "                     metric_params=None, n_jobs=None, n_neighbors=5, p=2,\n",
       "                     weights='uniform')"
      ]
     },
     "execution_count": 328,
     "metadata": {},
     "output_type": "execute_result"
    }
   ],
   "source": [
    "KNN = KNeighborsClassifier()\n",
    "KNN_model = KNN.fit(X_train,y_train)\n",
    "KNN_model"
   ]
  },
  {
   "cell_type": "code",
   "execution_count": 329,
   "metadata": {},
   "outputs": [
    {
     "data": {
      "text/plain": [
       "array([1., 0., 1., ..., 0., 1., 0.])"
      ]
     },
     "execution_count": 329,
     "metadata": {},
     "output_type": "execute_result"
    }
   ],
   "source": [
    "KNN_pred = KNN_model.predict(X_test)\n",
    "KNN_pred"
   ]
  },
  {
   "cell_type": "code",
   "execution_count": 330,
   "metadata": {},
   "outputs": [
    {
     "data": {
      "text/plain": [
       "0.6009410169411915"
      ]
     },
     "execution_count": 330,
     "metadata": {},
     "output_type": "execute_result"
    }
   ],
   "source": [
    "KNN_roc_auc = roc_auc_score(y_test, KNN_pred)\n",
    "KNN_roc_auc"
   ]
  },
  {
   "cell_type": "code",
   "execution_count": 331,
   "metadata": {},
   "outputs": [
    {
     "name": "stdout",
     "output_type": "stream",
     "text": [
      "0.518\n"
     ]
    }
   ],
   "source": [
    "e_KNN = accuracy_score(y_test,KNN_pred)\n",
    "print(e_KNN)\n"
   ]
  },
  {
   "cell_type": "code",
   "execution_count": 332,
   "metadata": {},
   "outputs": [
    {
     "name": "stdout",
     "output_type": "stream",
     "text": [
      "0.10015447991761071\n"
     ]
    }
   ],
   "source": [
    "p_KNN = precision_score(y_test,KNN_pred)\n",
    "print(p_KNN)"
   ]
  },
  {
   "cell_type": "code",
   "execution_count": 333,
   "metadata": {},
   "outputs": [
    {
     "name": "stdout",
     "output_type": "stream",
     "text": [
      "0.17517787985229216\n"
     ]
    }
   ],
   "source": [
    "F1_KNN= f1_score(y_test,KNN_pred)\n",
    "print(F1_KNN)"
   ]
  },
  {
   "cell_type": "code",
   "execution_count": 334,
   "metadata": {},
   "outputs": [
    {
     "name": "stdout",
     "output_type": "stream",
     "text": [
      "[[17739 17475]\n",
      " [  841  1945]]\n"
     ]
    }
   ],
   "source": [
    "m_KNN = confusion_matrix(y_test,KNN_pred)\n",
    "print(m_KNN)"
   ]
  },
  {
   "cell_type": "code",
   "execution_count": 335,
   "metadata": {},
   "outputs": [
    {
     "name": "stdout",
     "output_type": "stream",
     "text": [
      "              precision    recall  f1-score   support\n",
      "\n",
      "         0.0       0.95      0.50      0.66     35214\n",
      "         1.0       0.10      0.70      0.18      2786\n",
      "\n",
      "    accuracy                           0.52     38000\n",
      "   macro avg       0.53      0.60      0.42     38000\n",
      "weighted avg       0.89      0.52      0.62     38000\n",
      "\n"
     ]
    }
   ],
   "source": [
    "mr_KNN = classification_report(y_test,KNN_pred)\n",
    "print(mr_KNN)"
   ]
  },
  {
   "cell_type": "markdown",
   "metadata": {},
   "source": [
    "### Árbol de decisión"
   ]
  },
  {
   "cell_type": "code",
   "execution_count": 336,
   "metadata": {},
   "outputs": [
    {
     "data": {
      "text/plain": [
       "DecisionTreeClassifier(class_weight=None, criterion='gini', max_depth=None,\n",
       "                       max_features=None, max_leaf_nodes=None,\n",
       "                       min_impurity_decrease=0.0, min_impurity_split=None,\n",
       "                       min_samples_leaf=1, min_samples_split=2,\n",
       "                       min_weight_fraction_leaf=0.0, presort=False,\n",
       "                       random_state=None, splitter='best')"
      ]
     },
     "execution_count": 336,
     "metadata": {},
     "output_type": "execute_result"
    }
   ],
   "source": [
    "DT = DecisionTreeClassifier()\n",
    "DT_Model=DT.fit(X_train,y_train)\n",
    "DT_Model"
   ]
  },
  {
   "cell_type": "code",
   "execution_count": 337,
   "metadata": {},
   "outputs": [
    {
     "data": {
      "text/plain": [
       "array([1., 0., 1., ..., 1., 0., 0.])"
      ]
     },
     "execution_count": 337,
     "metadata": {},
     "output_type": "execute_result"
    }
   ],
   "source": [
    "DT_pred = DT.predict(X_test)\n",
    "DT_pred"
   ]
  },
  {
   "cell_type": "code",
   "execution_count": 338,
   "metadata": {},
   "outputs": [
    {
     "data": {
      "text/plain": [
       "0.7236154300700495"
      ]
     },
     "execution_count": 338,
     "metadata": {},
     "output_type": "execute_result"
    }
   ],
   "source": [
    "DT_roc_auc = roc_auc_score(y_test, DT_pred)\n",
    "DT_roc_auc"
   ]
  },
  {
   "cell_type": "code",
   "execution_count": 339,
   "metadata": {},
   "outputs": [
    {
     "name": "stdout",
     "output_type": "stream",
     "text": [
      "0.5759736842105263\n"
     ]
    }
   ],
   "source": [
    "e_DT = accuracy_score(y_test,DT_pred)\n",
    "print(e_DT)"
   ]
  },
  {
   "cell_type": "code",
   "execution_count": 340,
   "metadata": {},
   "outputs": [
    {
     "name": "stdout",
     "output_type": "stream",
     "text": [
      "0.13633138678164056\n"
     ]
    }
   ],
   "source": [
    "p_DT = precision_score(y_test,DT_pred)\n",
    "print(p_DT)"
   ]
  },
  {
   "cell_type": "code",
   "execution_count": 341,
   "metadata": {},
   "outputs": [
    {
     "name": "stdout",
     "output_type": "stream",
     "text": [
      "0.23667629920886826\n"
     ]
    }
   ],
   "source": [
    "F1_DT= f1_score(y_test,DT_pred)\n",
    "print(F1_DT)"
   ]
  },
  {
   "cell_type": "code",
   "execution_count": 342,
   "metadata": {},
   "outputs": [
    {
     "name": "stdout",
     "output_type": "stream",
     "text": [
      "[[19389 15825]\n",
      " [  288  2498]]\n"
     ]
    }
   ],
   "source": [
    "m_DT = confusion_matrix(y_test,DT_pred)\n",
    "print(m_DT)"
   ]
  },
  {
   "cell_type": "code",
   "execution_count": 343,
   "metadata": {},
   "outputs": [
    {
     "name": "stdout",
     "output_type": "stream",
     "text": [
      "              precision    recall  f1-score   support\n",
      "\n",
      "         0.0       0.99      0.55      0.71     35214\n",
      "         1.0       0.14      0.90      0.24      2786\n",
      "\n",
      "    accuracy                           0.58     38000\n",
      "   macro avg       0.56      0.72      0.47     38000\n",
      "weighted avg       0.92      0.58      0.67     38000\n",
      "\n"
     ]
    }
   ],
   "source": [
    "mr_DT = classification_report(y_test,DT_pred)\n",
    "print(mr_DT)"
   ]
  },
  {
   "cell_type": "markdown",
   "metadata": {},
   "source": [
    "### Random Forest"
   ]
  },
  {
   "cell_type": "code",
   "execution_count": 344,
   "metadata": {},
   "outputs": [
    {
     "data": {
      "text/plain": [
       "RandomForestClassifier(bootstrap=True, class_weight=None, criterion='gini',\n",
       "                       max_depth=None, max_features='auto', max_leaf_nodes=None,\n",
       "                       min_impurity_decrease=0.0, min_impurity_split=None,\n",
       "                       min_samples_leaf=1, min_samples_split=2,\n",
       "                       min_weight_fraction_leaf=0.0, n_estimators=10,\n",
       "                       n_jobs=None, oob_score=False, random_state=None,\n",
       "                       verbose=0, warm_start=False)"
      ]
     },
     "execution_count": 344,
     "metadata": {},
     "output_type": "execute_result"
    }
   ],
   "source": [
    "# RF = RandomForestClassifier(criterion=\"gini\", max_depth=2, n_estimators=17)\n",
    "RF = RandomForestClassifier()\n",
    "RF_model=RF.fit(X_train,y_train)\n",
    "RF_model\n"
   ]
  },
  {
   "cell_type": "code",
   "execution_count": 345,
   "metadata": {},
   "outputs": [
    {
     "data": {
      "text/plain": [
       "array([1., 0., 0., ..., 1., 1., 0.])"
      ]
     },
     "execution_count": 345,
     "metadata": {},
     "output_type": "execute_result"
    }
   ],
   "source": [
    "RF_pred = RF.predict(X_test)\n",
    "RF_pred"
   ]
  },
  {
   "cell_type": "code",
   "execution_count": 346,
   "metadata": {},
   "outputs": [
    {
     "data": {
      "text/plain": [
       "0.732931191589066"
      ]
     },
     "execution_count": 346,
     "metadata": {},
     "output_type": "execute_result"
    }
   ],
   "source": [
    "RF_roc_auc = roc_auc_score(y_test, RF_pred)\n",
    "RF_roc_auc"
   ]
  },
  {
   "cell_type": "code",
   "execution_count": 347,
   "metadata": {},
   "outputs": [
    {
     "name": "stdout",
     "output_type": "stream",
     "text": [
      "0.6018157894736842\n"
     ]
    }
   ],
   "source": [
    "e_RF = accuracy_score(y_test,RF_pred)\n",
    "print(e_RF)"
   ]
  },
  {
   "cell_type": "code",
   "execution_count": 348,
   "metadata": {},
   "outputs": [
    {
     "name": "stdout",
     "output_type": "stream",
     "text": [
      "0.14289846687879665\n"
     ]
    }
   ],
   "source": [
    "p_RF = precision_score(y_test,RF_pred)\n",
    "print(p_RF)"
   ]
  },
  {
   "cell_type": "code",
   "execution_count": 349,
   "metadata": {},
   "outputs": [
    {
     "name": "stdout",
     "output_type": "stream",
     "text": [
      "0.24612625180608838\n"
     ]
    }
   ],
   "source": [
    "F1_RF= f1_score(y_test,RF_pred)\n",
    "print(F1_RF)"
   ]
  },
  {
   "cell_type": "code",
   "execution_count": 350,
   "metadata": {},
   "outputs": [
    {
     "name": "stdout",
     "output_type": "stream",
     "text": [
      "[[20399 14815]\n",
      " [  316  2470]]\n"
     ]
    }
   ],
   "source": [
    "m_RF = confusion_matrix(y_test,RF_pred)\n",
    "print(m_RF)"
   ]
  },
  {
   "cell_type": "code",
   "execution_count": 351,
   "metadata": {},
   "outputs": [
    {
     "name": "stdout",
     "output_type": "stream",
     "text": [
      "              precision    recall  f1-score   support\n",
      "\n",
      "         0.0       0.98      0.58      0.73     35214\n",
      "         1.0       0.14      0.89      0.25      2786\n",
      "\n",
      "    accuracy                           0.60     38000\n",
      "   macro avg       0.56      0.73      0.49     38000\n",
      "weighted avg       0.92      0.60      0.69     38000\n",
      "\n"
     ]
    }
   ],
   "source": [
    "mr_RF = classification_report(y_test,RF_pred)\n",
    "print(mr_RF)"
   ]
  },
  {
   "cell_type": "markdown",
   "metadata": {},
   "source": [
    "### Gradient Boosting"
   ]
  },
  {
   "cell_type": "code",
   "execution_count": 352,
   "metadata": {},
   "outputs": [
    {
     "data": {
      "text/plain": [
       "GradientBoostingClassifier(criterion='friedman_mse', init=None,\n",
       "                           learning_rate=0.1, loss='deviance', max_depth=3,\n",
       "                           max_features=None, max_leaf_nodes=None,\n",
       "                           min_impurity_decrease=0.0, min_impurity_split=None,\n",
       "                           min_samples_leaf=1, min_samples_split=2,\n",
       "                           min_weight_fraction_leaf=0.0, n_estimators=100,\n",
       "                           n_iter_no_change=None, presort='auto',\n",
       "                           random_state=None, subsample=1.0, tol=0.0001,\n",
       "                           validation_fraction=0.1, verbose=0,\n",
       "                           warm_start=False)"
      ]
     },
     "execution_count": 352,
     "metadata": {},
     "output_type": "execute_result"
    }
   ],
   "source": [
    "GB = GradientBoostingClassifier()\n",
    "GB_model=GB.fit(X_train, y_train)\n",
    "GB_model"
   ]
  },
  {
   "cell_type": "code",
   "execution_count": 353,
   "metadata": {},
   "outputs": [
    {
     "data": {
      "text/plain": [
       "array([1., 1., 1., ..., 1., 1., 1.])"
      ]
     },
     "execution_count": 353,
     "metadata": {},
     "output_type": "execute_result"
    }
   ],
   "source": [
    "GB_pred = GB.predict(X_test)\n",
    "GB_pred"
   ]
  },
  {
   "cell_type": "code",
   "execution_count": 354,
   "metadata": {},
   "outputs": [
    {
     "data": {
      "text/plain": [
       "0.5827445224565003"
      ]
     },
     "execution_count": 354,
     "metadata": {},
     "output_type": "execute_result"
    }
   ],
   "source": [
    "GB_roc_auc = roc_auc_score(y_test, GB_pred)\n",
    "GB_roc_auc"
   ]
  },
  {
   "cell_type": "code",
   "execution_count": 355,
   "metadata": {},
   "outputs": [
    {
     "name": "stdout",
     "output_type": "stream",
     "text": [
      "0.4328157894736842\n"
     ]
    }
   ],
   "source": [
    "e_GB = accuracy_score(y_test,GB_pred)\n",
    "print(e_GB)"
   ]
  },
  {
   "cell_type": "code",
   "execution_count": 356,
   "metadata": {},
   "outputs": [
    {
     "name": "stdout",
     "output_type": "stream",
     "text": [
      "0.09189753403209673\n"
     ]
    }
   ],
   "source": [
    "p_GB = precision_score(y_test,GB_pred)\n",
    "print(p_GB)"
   ]
  },
  {
   "cell_type": "code",
   "execution_count": 357,
   "metadata": {},
   "outputs": [
    {
     "name": "stdout",
     "output_type": "stream",
     "text": [
      "0.16393188254005198\n"
     ]
    }
   ],
   "source": [
    "F1_GB= f1_score(y_test,GB_pred)\n",
    "print(F1_GB)"
   ]
  },
  {
   "cell_type": "code",
   "execution_count": 358,
   "metadata": {},
   "outputs": [
    {
     "name": "stdout",
     "output_type": "stream",
     "text": [
      "[[14334 20880]\n",
      " [  673  2113]]\n"
     ]
    }
   ],
   "source": [
    "m_GB = confusion_matrix(y_test,GB_pred)\n",
    "print(m_GB)"
   ]
  },
  {
   "cell_type": "code",
   "execution_count": 359,
   "metadata": {},
   "outputs": [
    {
     "name": "stdout",
     "output_type": "stream",
     "text": [
      "              precision    recall  f1-score   support\n",
      "\n",
      "         0.0       0.96      0.41      0.57     35214\n",
      "         1.0       0.09      0.76      0.16      2786\n",
      "\n",
      "    accuracy                           0.43     38000\n",
      "   macro avg       0.52      0.58      0.37     38000\n",
      "weighted avg       0.89      0.43      0.54     38000\n",
      "\n"
     ]
    }
   ],
   "source": [
    "mr_GB = classification_report(y_test,GB_pred)\n",
    "print(mr_GB)"
   ]
  },
  {
   "cell_type": "markdown",
   "metadata": {},
   "source": [
    "### Support Vector Machine"
   ]
  },
  {
   "cell_type": "code",
   "execution_count": 360,
   "metadata": {},
   "outputs": [
    {
     "data": {
      "text/plain": [
       "SVC(C=1.0, cache_size=200, class_weight=None, coef0=0.0,\n",
       "    decision_function_shape='ovr', degree=3, gamma='auto_deprecated',\n",
       "    kernel='rbf', max_iter=-1, probability=False, random_state=None,\n",
       "    shrinking=True, tol=0.001, verbose=False)"
      ]
     },
     "execution_count": 360,
     "metadata": {},
     "output_type": "execute_result"
    }
   ],
   "source": [
    "SV = svm.SVC(kernel='rbf')\n",
    "SV_model=SV.fit(X_train, y_train)\n",
    "SV_model"
   ]
  },
  {
   "cell_type": "code",
   "execution_count": 361,
   "metadata": {},
   "outputs": [
    {
     "data": {
      "text/plain": [
       "array([1., 1., 0., ..., 1., 1., 1.])"
      ]
     },
     "execution_count": 361,
     "metadata": {},
     "output_type": "execute_result"
    }
   ],
   "source": [
    "SV_pred = SV.predict(X_test)\n",
    "SV_pred"
   ]
  },
  {
   "cell_type": "code",
   "execution_count": 362,
   "metadata": {},
   "outputs": [
    {
     "data": {
      "text/plain": [
       "0.5381807963948946"
      ]
     },
     "execution_count": 362,
     "metadata": {},
     "output_type": "execute_result"
    }
   ],
   "source": [
    "SV_roc_auc = roc_auc_score(y_test, SV_pred)\n",
    "SV_roc_auc"
   ]
  },
  {
   "cell_type": "code",
   "execution_count": 363,
   "metadata": {},
   "outputs": [
    {
     "name": "stdout",
     "output_type": "stream",
     "text": [
      "0.5027631578947368\n"
     ]
    }
   ],
   "source": [
    "e_SV = accuracy_score(y_test,SV_pred)\n",
    "print(e_SV)"
   ]
  },
  {
   "cell_type": "code",
   "execution_count": 364,
   "metadata": {},
   "outputs": [
    {
     "name": "stdout",
     "output_type": "stream",
     "text": [
      "0.083510005687988\n"
     ]
    }
   ],
   "source": [
    "p_SV = precision_score(y_test,SV_pred)\n",
    "print(p_SV)"
   ]
  },
  {
   "cell_type": "code",
   "execution_count": 365,
   "metadata": {},
   "outputs": [
    {
     "name": "stdout",
     "output_type": "stream",
     "text": [
      "0.14598870056497174\n"
     ]
    }
   ],
   "source": [
    "F1_SV= f1_score(y_test,SV_pred)\n",
    "print(F1_SV)"
   ]
  },
  {
   "cell_type": "code",
   "execution_count": 366,
   "metadata": {},
   "outputs": [
    {
     "name": "stdout",
     "output_type": "stream",
     "text": [
      "[[17490 17724]\n",
      " [ 1171  1615]]\n"
     ]
    }
   ],
   "source": [
    "m_SV = confusion_matrix(y_test,SV_pred)\n",
    "print(m_SV)"
   ]
  },
  {
   "cell_type": "code",
   "execution_count": 367,
   "metadata": {},
   "outputs": [
    {
     "name": "stdout",
     "output_type": "stream",
     "text": [
      "              precision    recall  f1-score   support\n",
      "\n",
      "         0.0       0.94      0.50      0.65     35214\n",
      "         1.0       0.08      0.58      0.15      2786\n",
      "\n",
      "    accuracy                           0.50     38000\n",
      "   macro avg       0.51      0.54      0.40     38000\n",
      "weighted avg       0.87      0.50      0.61     38000\n",
      "\n"
     ]
    }
   ],
   "source": [
    "mr_SV = classification_report(y_test,SV_pred)\n",
    "print(mr_SV)"
   ]
  },
  {
   "cell_type": "markdown",
   "metadata": {},
   "source": [
    "### Comparación entre los distintos modelos \n"
   ]
  },
  {
   "cell_type": "markdown",
   "metadata": {},
   "source": [
    "#### Metricas de Rendimiento"
   ]
  },
  {
   "cell_type": "code",
   "execution_count": 368,
   "metadata": {},
   "outputs": [
    {
     "data": {
      "text/html": [
       "<div>\n",
       "<style scoped>\n",
       "    .dataframe tbody tr th:only-of-type {\n",
       "        vertical-align: middle;\n",
       "    }\n",
       "\n",
       "    .dataframe tbody tr th {\n",
       "        vertical-align: top;\n",
       "    }\n",
       "\n",
       "    .dataframe thead th {\n",
       "        text-align: right;\n",
       "    }\n",
       "</style>\n",
       "<table border=\"1\" class=\"dataframe\">\n",
       "  <thead>\n",
       "    <tr style=\"text-align: right;\">\n",
       "      <th></th>\n",
       "      <th>Algoritmo</th>\n",
       "      <th>Precisión</th>\n",
       "      <th>Exactitud</th>\n",
       "      <th>F1</th>\n",
       "      <th>ROC_AUC</th>\n",
       "    </tr>\n",
       "  </thead>\n",
       "  <tbody>\n",
       "    <tr>\n",
       "      <th>0</th>\n",
       "      <td>Logistica</td>\n",
       "      <td>0.083196</td>\n",
       "      <td>0.500842</td>\n",
       "      <td>0.145509</td>\n",
       "      <td>0.537144</td>\n",
       "    </tr>\n",
       "    <tr>\n",
       "      <th>1</th>\n",
       "      <td>Naïve Bayes</td>\n",
       "      <td>0.074282</td>\n",
       "      <td>0.104421</td>\n",
       "      <td>0.138081</td>\n",
       "      <td>0.506867</td>\n",
       "    </tr>\n",
       "    <tr>\n",
       "      <th>2</th>\n",
       "      <td>K Nearest Neighbor</td>\n",
       "      <td>0.100154</td>\n",
       "      <td>0.518000</td>\n",
       "      <td>0.175178</td>\n",
       "      <td>0.600941</td>\n",
       "    </tr>\n",
       "    <tr>\n",
       "      <th>3</th>\n",
       "      <td>Árboles de decisión</td>\n",
       "      <td>0.136331</td>\n",
       "      <td>0.575974</td>\n",
       "      <td>0.236676</td>\n",
       "      <td>0.723615</td>\n",
       "    </tr>\n",
       "    <tr>\n",
       "      <th>4</th>\n",
       "      <td>Random Forest</td>\n",
       "      <td>0.142898</td>\n",
       "      <td>0.601816</td>\n",
       "      <td>0.246126</td>\n",
       "      <td>0.732931</td>\n",
       "    </tr>\n",
       "    <tr>\n",
       "      <th>5</th>\n",
       "      <td>Gradient Boosting</td>\n",
       "      <td>0.091898</td>\n",
       "      <td>0.432816</td>\n",
       "      <td>0.163932</td>\n",
       "      <td>0.582745</td>\n",
       "    </tr>\n",
       "    <tr>\n",
       "      <th>6</th>\n",
       "      <td>Support Vector Machine</td>\n",
       "      <td>0.083510</td>\n",
       "      <td>0.083510</td>\n",
       "      <td>0.145989</td>\n",
       "      <td>0.538181</td>\n",
       "    </tr>\n",
       "  </tbody>\n",
       "</table>\n",
       "</div>"
      ],
      "text/plain": [
       "                Algoritmo  Precisión  Exactitud        F1   ROC_AUC\n",
       "0               Logistica   0.083196   0.500842  0.145509  0.537144\n",
       "1             Naïve Bayes   0.074282   0.104421  0.138081  0.506867\n",
       "2      K Nearest Neighbor   0.100154   0.518000  0.175178  0.600941\n",
       "3     Árboles de decisión   0.136331   0.575974  0.236676  0.723615\n",
       "4           Random Forest   0.142898   0.601816  0.246126  0.732931\n",
       "5       Gradient Boosting   0.091898   0.432816  0.163932  0.582745\n",
       "6  Support Vector Machine   0.083510   0.083510  0.145989  0.538181"
      ]
     },
     "execution_count": 368,
     "metadata": {},
     "output_type": "execute_result"
    }
   ],
   "source": [
    "v= {'Algoritmo':['Logistica', 'Naïve Bayes', 'K Nearest Neighbor', 'Árboles de decisión', 'Random Forest', 'Gradient Boosting', 'Support Vector Machine'], \n",
    "    'Precisión':[p_l, p_NB, p_KNN, p_DT, p_RF, p_GB, p_SV], \n",
    "    'Exactitud':[e_l, e_NB, e_KNN, e_DT, e_RF, e_GB, p_SV], \n",
    "    'F1':[F1_l, F1_NB, F1_KNN, F1_DT, F1_RF, F1_GB, F1_SV], \n",
    "    'ROC_AUC':[logit_roc_auc, NB_roc_auc, KNN_roc_auc, DT_roc_auc, RF_roc_auc, GB_roc_auc, SV_roc_auc]}\n",
    "\n",
    "v1=pd.DataFrame(data=v)\n",
    "v1"
   ]
  },
  {
   "cell_type": "markdown",
   "metadata": {},
   "source": [
    "#### AUC"
   ]
  },
  {
   "cell_type": "code",
   "execution_count": 369,
   "metadata": {},
   "outputs": [
    {
     "name": "stdout",
     "output_type": "stream",
     "text": [
      "Regresión Logit:  0.537144276828813\n",
      "Naïve Bayes:  0.5068669051755381\n",
      "K Near Neighbor:  0.6009410169411915\n",
      "Árbol de decisión:  0.7236154300700495\n",
      "Random Forest:  0.732931191589066\n",
      "Gradient Boosting:  0.5827445224565003\n",
      "Support Vector Machine:  0.5381807963948946\n"
     ]
    }
   ],
   "source": [
    "print('Regresión Logit: ',logit_roc_auc)\n",
    "print('Naïve Bayes: ',NB_roc_auc)\n",
    "print('K Near Neighbor: ',KNN_roc_auc)\n",
    "print('Árbol de decisión: ',DT_roc_auc)\n",
    "print('Random Forest: ',RF_roc_auc)\n",
    "print('Gradient Boosting: ',GB_roc_auc)\n",
    "print('Support Vector Machine: ',SV_roc_auc)"
   ]
  },
  {
   "cell_type": "code",
   "execution_count": 370,
   "metadata": {},
   "outputs": [
    {
     "name": "stdout",
     "output_type": "stream",
     "text": [
      "Regresión Logit:  0.5387652548456568\n",
      "Naïve Bayes:  0.5068198133524767\n",
      "K Near Neighbor:  0.6864680545585068\n",
      "Árbol de decisión:  0.923007896625987\n",
      "Random Forest:  0.8942928930366116\n",
      "Gradient Boosting:  0.616116295764537\n",
      "Support Vector Machine:  0.5432519741564967\n"
     ]
    }
   ],
   "source": [
    "print('Regresión Logit: ',logit_model.score(X_train,y_train))\n",
    "print('Naïve Bayes: ',NB_model.score(X_train,y_train))\n",
    "print('K Near Neighbor: ',KNN_model.score(X_train,y_train))\n",
    "print('Árbol de decisión: ',DT.score(X_train,y_train))\n",
    "print('Random Forest: ',RF.score(X_train,y_train))\n",
    "print('Gradient Boosting: ',GB.score(X_train,y_train))\n",
    "print('Support Vector Machine: ',SV.score(X_train,y_train))"
   ]
  },
  {
   "cell_type": "markdown",
   "metadata": {},
   "source": [
    "#### Curva ROC"
   ]
  },
  {
   "cell_type": "code",
   "execution_count": 375,
   "metadata": {},
   "outputs": [],
   "source": [
    "logit_fpr, logit_tpr, thresholds = roc_curve(y_test, logit.predict_log_proba(X_test)[:,1])\n",
    "NB_fpr, NB_tpr, thresholds = roc_curve(y_test, NB_model.predict_proba(X_test)[:, 1])\n",
    "KNN_fpr, KNN_tpr, thresholds = roc_curve(y_test, KNN_model.predict_proba(X_test)[:, 1])\n",
    "DT_fpr, DT_tpr, thresholds = roc_curve(y_test, DT.predict_proba(X_test)[:, 1])\n",
    "RF_fpr, RF_tpr, thresholds = roc_curve(y_test, RF.predict_proba(X_test)[:, 1])\n",
    "GB_fpr, GB_tpr, thresholds = roc_curve(y_test, GB.predict_proba(X_test)[:, 1])\n",
    "#SV_fpr, SV_tpr, thresholds = roc_curve(y_test, SV.predict_proba(X_test)[:, 1])"
   ]
  },
  {
   "cell_type": "code",
   "execution_count": 373,
   "metadata": {},
   "outputs": [
    {
     "data": {
      "text/plain": [
       "''"
      ]
     },
     "execution_count": 373,
     "metadata": {},
     "output_type": "execute_result"
    },
    {
     "data": {
      "image/png": "[encoded data removed]",
      "text/plain": [
       "<Figure size 1440x720 with 1 Axes>"
      ]
     },
     "metadata": {},
     "output_type": "display_data"
    }
   ],
   "source": [
    "plt.figure(figsize=(20,10))\n",
    "plt.plot(logit_fpr, logit_tpr, label='Regresión Logística')\n",
    "plt.plot(NB_fpr, NB_tpr, label='NB')\n",
    "plt.plot(KNN_fpr, KNN_tpr, label='KNN')\n",
    "plt.plot(DT_fpr, DT_tpr, label='DT')\n",
    "plt.plot(RF_fpr, RF_tpr, label='RF')\n",
    "plt.plot(GB_fpr, GB_tpr, label='GB')\n",
    "plt.plot([0, 1], [0, 1],'r--')\n",
    "plt.xlabel('Tasa de Falsos Positivos')\n",
    "plt.ylabel('Tasa de Verdaderos Positivos')\n",
    "plt.title('Característica de funcionamiento del receptor (Curva ROC)')\n",
    "plt.legend(loc=\"lower right\")\n",
    ";"
   ]
  }
 ],
 "metadata": {
  "kernelspec": {
   "display_name": "Python 3",
   "language": "python",
   "name": "python3"
  },
  "language_info": {
   "codemirror_mode": {
    "name": "ipython",
    "version": 3
   },
   "file_extension": ".py",
   "mimetype": "text/x-python",
   "name": "python",
   "nbconvert_exporter": "python",
   "pygments_lexer": "ipython3",
   "version": "3.7.3"
  }
 },
 "nbformat": 4,
 "nbformat_minor": 2
}
